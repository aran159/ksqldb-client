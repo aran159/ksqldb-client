{
 "cells": [
  {
   "cell_type": "code",
   "execution_count": 1,
   "metadata": {},
   "outputs": [],
   "source": [
    "from ksqldb_client import KSqlDBClient"
   ]
  },
  {
   "cell_type": "code",
   "execution_count": 2,
   "metadata": {},
   "outputs": [],
   "source": [
    "client = KSqlDBClient(\"http://localhost:8088\")"
   ]
  },
  {
   "cell_type": "code",
   "execution_count": 3,
   "metadata": {},
   "outputs": [
    {
     "data": {
      "text/plain": [
       "{'KsqlServerInfo': {'version': '0.29.0',\n",
       "  'kafkaClusterId': 'bXpZ58FyTj6mcAiVZIdANQ',\n",
       "  'ksqlServiceId': 'default_',\n",
       "  'serverStatus': 'RUNNING'}}"
      ]
     },
     "execution_count": 3,
     "metadata": {},
     "output_type": "execute_result"
    }
   ],
   "source": [
    "client.info()"
   ]
  },
  {
   "cell_type": "code",
   "execution_count": 4,
   "metadata": {},
   "outputs": [
    {
     "data": {
      "text/plain": [
       "[{'@type': 'streams',\n",
       "  'statementText': 'SHOW STREAMS;',\n",
       "  'streams': [{'type': 'STREAM',\n",
       "    'name': 'KSQL_PROCESSING_LOG',\n",
       "    'topic': 'default_ksql_processing_log',\n",
       "    'keyFormat': 'KAFKA',\n",
       "    'valueFormat': 'JSON',\n",
       "    'isWindowed': False},\n",
       "   {'type': 'STREAM',\n",
       "    'name': 'MY_STREAM',\n",
       "    'topic': 'MY_STREAM',\n",
       "    'keyFormat': 'KAFKA',\n",
       "    'valueFormat': 'JSON',\n",
       "    'isWindowed': False}],\n",
       "  'warnings': []}]"
      ]
     },
     "execution_count": 4,
     "metadata": {},
     "output_type": "execute_result"
    }
   ],
   "source": [
    "client.ksql(ksql=\"SHOW STREAMS;\")"
   ]
  },
  {
   "cell_type": "code",
   "execution_count": 5,
   "metadata": {},
   "outputs": [
    {
     "data": {
      "text/plain": [
       "{'queryId': 'transient_KSQL_PROCESSING_LOG_5734658242606839546',\n",
       " 'columnNames': ['LOGGER', 'LEVEL', 'TIME', 'MESSAGE'],\n",
       " 'columnTypes': ['STRING',\n",
       "  'STRING',\n",
       "  'BIGINT',\n",
       "  'STRUCT<`TYPE` INTEGER, `DESERIALIZATIONERROR` STRUCT<`TARGET` STRING, `ERRORMESSAGE` STRING, `RECORDB64` STRING, `CAUSE` ARRAY<STRING>, `topic` STRING>, `RECORDPROCESSINGERROR` STRUCT<`ERRORMESSAGE` STRING, `RECORD` STRING, `CAUSE` ARRAY<STRING>>, `PRODUCTIONERROR` STRUCT<`ERRORMESSAGE` STRING>, `SERIALIZATIONERROR` STRUCT<`TARGET` STRING, `ERRORMESSAGE` STRING, `RECORD` STRING, `CAUSE` ARRAY<STRING>, `topic` STRING>, `KAFKASTREAMSTHREADERROR` STRUCT<`ERRORMESSAGE` STRING, `THREADNAME` STRING, `CAUSE` ARRAY<STRING>>>']}"
      ]
     },
     "execution_count": 5,
     "metadata": {},
     "output_type": "execute_result"
    }
   ],
   "source": [
    "client.query(ksql=\"SELECT * FROM ksql_processing_log;\")"
   ]
  },
  {
   "cell_type": "code",
   "execution_count": 6,
   "metadata": {},
   "outputs": [
    {
     "data": {
      "text/plain": [
       "{'queryId': 'transient_KSQL_PROCESSING_LOG_4194599143609537878',\n",
       " 'columnNames': ['LOGGER', 'LEVEL', 'TIME', 'MESSAGE'],\n",
       " 'columnTypes': ['STRING',\n",
       "  'STRING',\n",
       "  'BIGINT',\n",
       "  'STRUCT<`TYPE` INTEGER, `DESERIALIZATIONERROR` STRUCT<`TARGET` STRING, `ERRORMESSAGE` STRING, `RECORDB64` STRING, `CAUSE` ARRAY<STRING>, `topic` STRING>, `RECORDPROCESSINGERROR` STRUCT<`ERRORMESSAGE` STRING, `RECORD` STRING, `CAUSE` ARRAY<STRING>>, `PRODUCTIONERROR` STRUCT<`ERRORMESSAGE` STRING>, `SERIALIZATIONERROR` STRUCT<`TARGET` STRING, `ERRORMESSAGE` STRING, `RECORD` STRING, `CAUSE` ARRAY<STRING>, `topic` STRING>, `KAFKASTREAMSTHREADERROR` STRUCT<`ERRORMESSAGE` STRING, `THREADNAME` STRING, `CAUSE` ARRAY<STRING>>>']}"
      ]
     },
     "execution_count": 6,
     "metadata": {},
     "output_type": "execute_result"
    }
   ],
   "source": [
    "client.query_stream(sql=\"SELECT * FROM ksql_processing_log;\")"
   ]
  },
  {
   "cell_type": "code",
   "execution_count": 7,
   "metadata": {},
   "outputs": [
    {
     "ename": "KeyError",
     "evalue": "'content-type'",
     "output_type": "error",
     "traceback": [
      "\u001b[0;31m---------------------------------------------------------------------------\u001b[0m",
      "\u001b[0;31mKeyError\u001b[0m                                  Traceback (most recent call last)",
      "Cell \u001b[0;32mIn[7], line 1\u001b[0m\n\u001b[0;32m----> 1\u001b[0m \u001b[43mclient\u001b[49m\u001b[38;5;241;43m.\u001b[39;49m\u001b[43mclose_query\u001b[49m\u001b[43m(\u001b[49m\u001b[38;5;124;43m\"\u001b[39;49m\u001b[38;5;124;43mtransient_KSQL_PROCESSING_LOG_5848529562303700407\u001b[39;49m\u001b[38;5;124;43m\"\u001b[39;49m\u001b[43m)\u001b[49m\n",
      "File \u001b[0;32m~/Projects/ander.aranburu/ksqldb-client/ksqldb_client/__init__.py:18\u001b[0m, in \u001b[0;36m_raise_api_error_if_not_200.<locals>.wrapper\u001b[0;34m(*args, **kwargs)\u001b[0m\n\u001b[1;32m     13\u001b[0m result \u001b[38;5;241m=\u001b[39m function(\u001b[38;5;241m*\u001b[39margs, \u001b[38;5;241m*\u001b[39m\u001b[38;5;241m*\u001b[39mkwargs)\n\u001b[1;32m     14\u001b[0m \u001b[38;5;28;01mif\u001b[39;00m result\u001b[38;5;241m.\u001b[39mstatus_code \u001b[38;5;241m!=\u001b[39m \u001b[38;5;241m200\u001b[39m:  \u001b[38;5;66;03m# noqa: PLR2004\u001b[39;00m\n\u001b[1;32m     15\u001b[0m     \u001b[38;5;28;01mraise\u001b[39;00m APIError(\n\u001b[1;32m     16\u001b[0m         (\n\u001b[1;32m     17\u001b[0m             result\u001b[38;5;241m.\u001b[39mjson()\n\u001b[0;32m---> 18\u001b[0m             \u001b[38;5;28;01mif\u001b[39;00m \u001b[38;5;124m\"\u001b[39m\u001b[38;5;124mapplication/json\u001b[39m\u001b[38;5;124m\"\u001b[39m \u001b[38;5;129;01min\u001b[39;00m \u001b[43mresult\u001b[49m\u001b[38;5;241;43m.\u001b[39;49m\u001b[43mheaders\u001b[49m\u001b[43m[\u001b[49m\u001b[38;5;124;43m\"\u001b[39;49m\u001b[38;5;124;43mcontent-type\u001b[39;49m\u001b[38;5;124;43m\"\u001b[39;49m\u001b[43m]\u001b[49m\n\u001b[1;32m     19\u001b[0m             \u001b[38;5;28;01melse\u001b[39;00m {\u001b[38;5;124m\"\u001b[39m\u001b[38;5;124merror_code\u001b[39m\u001b[38;5;124m\"\u001b[39m: result\u001b[38;5;241m.\u001b[39mstatus_code, \u001b[38;5;124m\"\u001b[39m\u001b[38;5;124mmessage\u001b[39m\u001b[38;5;124m\"\u001b[39m: result\u001b[38;5;241m.\u001b[39mtext}\n\u001b[1;32m     20\u001b[0m         ),\n\u001b[1;32m     21\u001b[0m     )\n\u001b[1;32m     22\u001b[0m \u001b[38;5;28;01mreturn\u001b[39;00m result\u001b[38;5;241m.\u001b[39mjson()\n",
      "File \u001b[0;32m~/Projects/ander.aranburu/ksqldb-client/.venv/lib/python3.10/site-packages/httpx/_models.py:228\u001b[0m, in \u001b[0;36mHeaders.__getitem__\u001b[0;34m(self, key)\u001b[0m\n\u001b[1;32m    225\u001b[0m \u001b[38;5;28;01mif\u001b[39;00m items:\n\u001b[1;32m    226\u001b[0m     \u001b[38;5;28;01mreturn\u001b[39;00m \u001b[38;5;124m\"\u001b[39m\u001b[38;5;124m, \u001b[39m\u001b[38;5;124m\"\u001b[39m\u001b[38;5;241m.\u001b[39mjoin(items)\n\u001b[0;32m--> 228\u001b[0m \u001b[38;5;28;01mraise\u001b[39;00m \u001b[38;5;167;01mKeyError\u001b[39;00m(key)\n",
      "\u001b[0;31mKeyError\u001b[0m: 'content-type'"
     ]
    }
   ],
   "source": [
    "client.close_query(\"transient_KSQL_PROCESSING_LOG_5848529562303700407\")"
   ]
  },
  {
   "cell_type": "code",
   "execution_count": 8,
   "metadata": {},
   "outputs": [
    {
     "data": {
      "text/plain": [
       "[{'@type': 'queries',\n",
       "  'statementText': 'show queries;',\n",
       "  'queries': [{'queryString': \"CREATE STREAM MY_STREAM WITH (CLEANUP_POLICY='delete', KAFKA_TOPIC='MY_STREAM', PARTITIONS=1, REPLICAS=1, RETENTION_MS=604800000) AS SELECT *\\nFROM KSQL_PROCESSING_LOG KSQL_PROCESSING_LOG\\nEMIT CHANGES;\",\n",
       "    'sinks': ['MY_STREAM'],\n",
       "    'sinkKafkaTopics': ['MY_STREAM'],\n",
       "    'id': 'CSAS_MY_STREAM_1',\n",
       "    'statusCount': {'RUNNING': 1},\n",
       "    'queryType': 'PERSISTENT',\n",
       "    'state': 'RUNNING'}],\n",
       "  'warnings': []}]"
      ]
     },
     "execution_count": 8,
     "metadata": {},
     "output_type": "execute_result"
    }
   ],
   "source": [
    "client.ksql(ksql=\"show queries;\")"
   ]
  },
  {
   "cell_type": "code",
   "execution_count": 10,
   "metadata": {},
   "outputs": [
    {
     "data": {
      "text/plain": [
       "[{'@type': 'currentStatus',\n",
       "  'statementText': 'drop stream if exists my_stream;',\n",
       "  'commandId': 'stream/MY_STREAM/drop',\n",
       "  'commandStatus': {'status': 'SUCCESS',\n",
       "   'message': 'Source `MY_STREAM` (topic: MY_STREAM) was dropped.',\n",
       "   'queryId': None},\n",
       "  'commandSequenceNumber': 4,\n",
       "  'warnings': []}]"
      ]
     },
     "execution_count": 10,
     "metadata": {},
     "output_type": "execute_result"
    }
   ],
   "source": [
    "client.ksql(ksql=\"drop stream if exists my_stream;\")"
   ]
  },
  {
   "cell_type": "code",
   "execution_count": 11,
   "metadata": {},
   "outputs": [
    {
     "data": {
      "text/plain": [
       "[{'@type': 'currentStatus',\n",
       "  'statementText': \"CREATE STREAM MY_STREAM WITH (CLEANUP_POLICY='delete', KAFKA_TOPIC='MY_STREAM', PARTITIONS=1, REPLICAS=1, RETENTION_MS=604800000) AS SELECT *\\nFROM KSQL_PROCESSING_LOG KSQL_PROCESSING_LOG\\nEMIT CHANGES;\",\n",
       "  'commandId': 'stream/`MY_STREAM`/create',\n",
       "  'commandStatus': {'status': 'SUCCESS',\n",
       "   'message': 'Created query with ID CSAS_MY_STREAM_5',\n",
       "   'queryId': 'CSAS_MY_STREAM_5'},\n",
       "  'commandSequenceNumber': 6,\n",
       "  'warnings': []}]"
      ]
     },
     "execution_count": 11,
     "metadata": {},
     "output_type": "execute_result"
    }
   ],
   "source": [
    "client.ksql(ksql=\"create stream my_stream as select * from ksql_processing_log emit changes;\")"
   ]
  },
  {
   "cell_type": "code",
   "execution_count": 12,
   "metadata": {},
   "outputs": [
    {
     "data": {
      "text/plain": [
       "{'commandStatuses': {'stream/MY_STREAM/drop': 'SUCCESS',\n",
       "  'stream/`KSQL_PROCESSING_LOG`/create': 'SUCCESS',\n",
       "  'stream/`MY_STREAM`/create': 'SUCCESS'}}"
      ]
     },
     "execution_count": 12,
     "metadata": {},
     "output_type": "execute_result"
    }
   ],
   "source": [
    "client.status()"
   ]
  },
  {
   "cell_type": "code",
   "execution_count": 13,
   "metadata": {},
   "outputs": [
    {
     "data": {
      "text/plain": [
       "{'status': 'SUCCESS',\n",
       " 'message': 'Created query with ID CSAS_MY_STREAM_5',\n",
       " 'queryId': 'CSAS_MY_STREAM_5'}"
      ]
     },
     "execution_count": 13,
     "metadata": {},
     "output_type": "execute_result"
    }
   ],
   "source": [
    "client.status(command_id=\"stream/`MY_STREAM`/create\")"
   ]
  },
  {
   "cell_type": "code",
   "execution_count": 14,
   "metadata": {},
   "outputs": [
    {
     "ename": "APIError",
     "evalue": "APIError: 404 - <html><body><h1>Resource not found</h1></body></html>",
     "output_type": "error",
     "traceback": [
      "\u001b[0;31m---------------------------------------------------------------------------\u001b[0m",
      "\u001b[0;31mAPIError\u001b[0m                                  Traceback (most recent call last)",
      "Cell \u001b[0;32mIn[14], line 1\u001b[0m\n\u001b[0;32m----> 1\u001b[0m \u001b[43mclient\u001b[49m\u001b[38;5;241;43m.\u001b[39;49m\u001b[43mcluster_status\u001b[49m\u001b[43m(\u001b[49m\u001b[43m)\u001b[49m\n",
      "File \u001b[0;32m~/Projects/ander.aranburu/ksqldb-client/ksqldb_client/__init__.py:15\u001b[0m, in \u001b[0;36m_raise_api_error_if_not_200.<locals>.wrapper\u001b[0;34m(*args, **kwargs)\u001b[0m\n\u001b[1;32m     13\u001b[0m result \u001b[38;5;241m=\u001b[39m function(\u001b[38;5;241m*\u001b[39margs, \u001b[38;5;241m*\u001b[39m\u001b[38;5;241m*\u001b[39mkwargs)\n\u001b[1;32m     14\u001b[0m \u001b[38;5;28;01mif\u001b[39;00m result\u001b[38;5;241m.\u001b[39mstatus_code \u001b[38;5;241m!=\u001b[39m \u001b[38;5;241m200\u001b[39m:  \u001b[38;5;66;03m# noqa: PLR2004\u001b[39;00m\n\u001b[0;32m---> 15\u001b[0m     \u001b[38;5;28;01mraise\u001b[39;00m APIError(\n\u001b[1;32m     16\u001b[0m         (\n\u001b[1;32m     17\u001b[0m             result\u001b[38;5;241m.\u001b[39mjson()\n\u001b[1;32m     18\u001b[0m             \u001b[38;5;28;01mif\u001b[39;00m \u001b[38;5;124m\"\u001b[39m\u001b[38;5;124mapplication/json\u001b[39m\u001b[38;5;124m\"\u001b[39m \u001b[38;5;129;01min\u001b[39;00m result\u001b[38;5;241m.\u001b[39mheaders[\u001b[38;5;124m\"\u001b[39m\u001b[38;5;124mcontent-type\u001b[39m\u001b[38;5;124m\"\u001b[39m]\n\u001b[1;32m     19\u001b[0m             \u001b[38;5;28;01melse\u001b[39;00m {\u001b[38;5;124m\"\u001b[39m\u001b[38;5;124merror_code\u001b[39m\u001b[38;5;124m\"\u001b[39m: result\u001b[38;5;241m.\u001b[39mstatus_code, \u001b[38;5;124m\"\u001b[39m\u001b[38;5;124mmessage\u001b[39m\u001b[38;5;124m\"\u001b[39m: result\u001b[38;5;241m.\u001b[39mtext}\n\u001b[1;32m     20\u001b[0m         ),\n\u001b[1;32m     21\u001b[0m     )\n\u001b[1;32m     22\u001b[0m \u001b[38;5;28;01mreturn\u001b[39;00m result\u001b[38;5;241m.\u001b[39mjson()\n",
      "\u001b[0;31mAPIError\u001b[0m: APIError: 404 - <html><body><h1>Resource not found</h1></body></html>"
     ]
    }
   ],
   "source": [
    "client.cluster_status()"
   ]
  },
  {
   "cell_type": "markdown",
   "metadata": {},
   "source": [
    "# Unimplemented"
   ]
  },
  {
   "cell_type": "code",
   "execution_count": null,
   "metadata": {},
   "outputs": [],
   "source": [
    "response = client._client.get(f\"{client.url}/info\")"
   ]
  },
  {
   "cell_type": "code",
   "execution_count": null,
   "metadata": {},
   "outputs": [
    {
     "data": {
      "text/plain": [
       "{'KsqlServerInfo': {'version': '0.29.0',\n",
       "  'kafkaClusterId': 'bXpZ58FyTj6mcAiVZIdANQ',\n",
       "  'ksqlServiceId': 'default_',\n",
       "  'serverStatus': 'RUNNING'}}"
      ]
     },
     "execution_count": 14,
     "metadata": {},
     "output_type": "execute_result"
    }
   ],
   "source": [
    "response.json()"
   ]
  }
 ],
 "metadata": {
  "kernelspec": {
   "display_name": ".venv",
   "language": "python",
   "name": "python3"
  },
  "language_info": {
   "codemirror_mode": {
    "name": "ipython",
    "version": 3
   },
   "file_extension": ".py",
   "mimetype": "text/x-python",
   "name": "python",
   "nbconvert_exporter": "python",
   "pygments_lexer": "ipython3",
   "version": "3.10.12"
  }
 },
 "nbformat": 4,
 "nbformat_minor": 2
}
